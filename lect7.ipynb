{
  "nbformat": 4,
  "nbformat_minor": 0,
  "metadata": {
    "colab": {
      "provenance": [],
      "authorship_tag": "ABX9TyPx4Z4pQaqeqJ7jBnlpx4Zh",
      "include_colab_link": true
    },
    "kernelspec": {
      "name": "python3",
      "display_name": "Python 3"
    },
    "language_info": {
      "name": "python"
    }
  },
  "cells": [
    {
      "cell_type": "markdown",
      "metadata": {
        "id": "view-in-github",
        "colab_type": "text"
      },
      "source": [
        "<a href=\"https://colab.research.google.com/github/seokjinwoo/AIandEcon/blob/main/lect7.ipynb\" target=\"_parent\"><img src=\"https://colab.research.google.com/assets/colab-badge.svg\" alt=\"Open In Colab\"/></a>"
      ]
    },
    {
      "cell_type": "markdown",
      "source": [
        "## 기계학습 machine learning\n",
        "\n",
        "- outcome 결과: $Y$ (종속변수, 피설명변수, 반응(response)변수, 목표(target)변수)\n",
        "- predictor 예측: $X$, 스칼라/벡터 (독립변수, 설명변수, 공변량, 입력 변수)\n",
        "- 특성변수 features\n",
        "\n",
        "- $X$를 이용해서 $Y$를 예측한다.\n",
        "\n",
        "- 모형을 설정하고, 모형의 모수들을 학습(추정)한다.\n"
      ],
      "metadata": {
        "id": "odAWnObXLt0I"
      }
    },
    {
      "cell_type": "markdown",
      "source": [
        "### 지도학습 supervised learning\n",
        "\n",
        "- $(X_1, Y_1), \\dots, (X_n, Y_n)$ 이 주어졌을 때.\n",
        "\n",
        "- Regression problem(회귀분석): $X \\rightarrow Y$, $Y$ 가 연속일 때.\n",
        "\n",
        "  - $Y_i = \\beta_0 + \\beta_1 X_i + e_i$\n",
        "\n",
        "- Classification problem(분류 문제): $Y$가 연속이 아닐 경우\n",
        "\n"
      ],
      "metadata": {
        "id": "AYhxvgwbQPYp"
      }
    },
    {
      "cell_type": "markdown",
      "source": [
        "### 비지도학습 unsupervised learning\n",
        "\n",
        "- $(X_1, \\dots, ,X_n)$ 만 주어졌을 때\n",
        "- 비슷한 개체들로 분류하는 작업\n",
        "- clustering\n",
        "- $Y$ 레이블(labelling)이 없는 경우"
      ],
      "metadata": {
        "id": "UWZ9p3LKSKmc"
      }
    },
    {
      "cell_type": "markdown",
      "source": [
        "### 지도학습 중 회귀모형을 정리\n",
        "\n",
        "- 제품의 매출(sales)\n",
        "- 다양한 매체를 통해서 광고: TV, Radio, Newspaper\n",
        "\n",
        "- 모형: sales = f(TV, Radio, Newspaper) + error\n",
        "- (i 를 생략하고)\n",
        "\n",
        "$$\n",
        "Y = f(X) + \\epsilon\n",
        "$$\n",
        "\n",
        "- $\\epsilon$은 오차, 오류, 측정오차"
      ],
      "metadata": {
        "id": "fJBeGzczUMfw"
      }
    },
    {
      "cell_type": "markdown",
      "source": [
        "- 어떤 $f(X)$가 좋은 모형이 될 것인가?\n",
        "\n",
        "- 예를 들어서, $X = 4$ 일 때, 어떤 $Y$가 좋은 예측치가 될 것인가?\n",
        "\n",
        "$$\n",
        "f(X=4) = E[Y|X =4]\n",
        "$$\n",
        "\n",
        "- conditional mean function 조건부 기대 함수\n",
        "\n",
        "- 조건부 기대 함수가 다음과 같은 조건에서 제일 좋은 predictor 임\n",
        "\n",
        "$$\n",
        "E[(Y - \\hat{f}(X))^2 | X = x]\n",
        "$$\n",
        "\n",
        "- 실제에서는 $X=4$의 근방(neighborhood)에서 $Y$의 평균을 계산함.\n",
        "\n",
        "$$\n",
        "\\hat{f} (x) = Ave (Y | X \\in \\mathcal{N} (x) )\n",
        "$$\n",
        "\n",
        "\n",
        "\n",
        "\n",
        "\n",
        "\n",
        "\n",
        "\n",
        "\n",
        "\n",
        "\n",
        "\n",
        "\n",
        "\n",
        "\n"
      ],
      "metadata": {
        "id": "DD-wTHoVVa5c"
      }
    },
    {
      "cell_type": "markdown",
      "source": [
        "- Curse of dimensionality 차원의 저주\n",
        "\n",
        "- 모형을 모수적으로 가정. parametric model\n",
        "\n",
        "$$\n",
        "f(X) = \\beta_0 + \\beta_1 X_1 + \\beta_2 X_2 + \\cdots + \\beta_p X_p  \n",
        "$$\n",
        "\n",
        "- 다항식. 선형함수는 임의의 함수의 좋은 근사치가 됨\n",
        "\n",
        "- 예를 들어서, education과 age 가 주어졌을 때, 그 소득이 얼마인지를 예측하는 모형\n",
        "\n",
        "- income = f(education, age) + error\n",
        "\n",
        "- 만약에 $f()$ 가 선형함수라고 가정할 수 있다면\n",
        "$$\n",
        "income = \\beta_0 + \\beta_1 \\times education + \\beta_2 \\times age + \\epsilon\n",
        "$$\n",
        "\n",
        "\n",
        "\n",
        "\n",
        "\n",
        "\n",
        "\n",
        "\n",
        "\n"
      ],
      "metadata": {
        "id": "c3XAc_jseboB"
      }
    },
    {
      "cell_type": "markdown",
      "source": [
        "---\n",
        "### 모형의 정확성 accuracy\n",
        "\n",
        "- 좋은 적합 vs. 과적합(overfitting)\n",
        "\n",
        "\n",
        "\n"
      ],
      "metadata": {
        "id": "cp7qUa-2h_ir"
      }
    },
    {
      "cell_type": "code",
      "execution_count": null,
      "metadata": {
        "id": "sa6IhzoYJN-D"
      },
      "outputs": [],
      "source": []
    }
  ]
}