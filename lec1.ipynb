{
  "nbformat": 4,
  "nbformat_minor": 0,
  "metadata": {
    "colab": {
      "provenance": [],
      "authorship_tag": "ABX9TyO1gfQscrla0Nzax8OEj+7H",
      "include_colab_link": true
    },
    "kernelspec": {
      "name": "python3",
      "display_name": "Python 3"
    },
    "language_info": {
      "name": "python"
    }
  },
  "cells": [
    {
      "cell_type": "markdown",
      "metadata": {
        "id": "view-in-github",
        "colab_type": "text"
      },
      "source": [
        "<a href=\"https://colab.research.google.com/github/seokjinwoo/AIandEcon/blob/main/lec1.ipynb\" target=\"_parent\"><img src=\"https://colab.research.google.com/assets/colab-badge.svg\" alt=\"Open In Colab\"/></a>"
      ]
    },
    {
      "cell_type": "code",
      "execution_count": null,
      "metadata": {
        "id": "btuS-pGuH6bi"
      },
      "outputs": [],
      "source": []
    },
    {
      "cell_type": "markdown",
      "source": [
        "## 파이썬 기초\n",
        "\n",
        "- 기초 프로그래밍\n",
        "- 마크다운 문법 markdown\n",
        "- 필기 필요할 때는 text, 코딩이 필요할 때는 파이썬 코딩\n",
        "- 모형이 필요할 때는 LaTex 을 이용해서 표현\n",
        "- 예를 들어서, 다음과 같은 회귀모형을 쓸 수 있음\n",
        "\n",
        "$$\n",
        "y_i = a + b x_i + \\varepsilon_i\n",
        "$$"
      ],
      "metadata": {
        "id": "Gfre57WpIkm3"
      }
    },
    {
      "cell_type": "markdown",
      "source": [
        "---\n",
        "\n",
        "- 문자 프린팅"
      ],
      "metadata": {
        "id": "xLzSE47EKnTj"
      }
    },
    {
      "cell_type": "code",
      "source": [
        "print(\"Hello, World!\")\n",
        "print('Hello, World!')"
      ],
      "metadata": {
        "colab": {
          "base_uri": "https://localhost:8080/"
        },
        "id": "gteGSRL2IpsN",
        "outputId": "b1c3373c-c4bc-407f-f17a-b3be6565fb33"
      },
      "execution_count": 2,
      "outputs": [
        {
          "output_type": "stream",
          "name": "stdout",
          "text": [
            "Hello, World!\n",
            "Hello, World!\n"
          ]
        }
      ]
    },
    {
      "cell_type": "code",
      "source": [
        "print(\"Hello\", \"World!\")"
      ],
      "metadata": {
        "colab": {
          "base_uri": "https://localhost:8080/"
        },
        "id": "9Irz03GjK5ks",
        "outputId": "de9d6490-375a-478c-f958-524ded4ff636"
      },
      "execution_count": 3,
      "outputs": [
        {
          "output_type": "stream",
          "name": "stdout",
          "text": [
            "Hello World!\n"
          ]
        }
      ]
    },
    {
      "cell_type": "code",
      "source": [
        "print(\"Fit a model with\", 10, \"variables\")"
      ],
      "metadata": {
        "colab": {
          "base_uri": "https://localhost:8080/"
        },
        "id": "1KHQdaEMLDQN",
        "outputId": "e8437a91-ba0b-4f5e-ca95-d1219c9d193e"
      },
      "execution_count": 4,
      "outputs": [
        {
          "output_type": "stream",
          "name": "stdout",
          "text": [
            "Fit a model with 10 variables\n"
          ]
        }
      ]
    },
    {
      "cell_type": "code",
      "source": [
        "# +: 연결 concantenation\n",
        "print(\"Hello\" + \" \" + \"World!\")"
      ],
      "metadata": {
        "colab": {
          "base_uri": "https://localhost:8080/"
        },
        "id": "5Bp3LzQ3LWm6",
        "outputId": "021a891f-3d19-4388-a92b-7d9fc0e3ace7"
      },
      "execution_count": 7,
      "outputs": [
        {
          "output_type": "stream",
          "name": "stdout",
          "text": [
            "Hello World!\n"
          ]
        }
      ]
    },
    {
      "cell_type": "code",
      "source": [
        "print?"
      ],
      "metadata": {
        "id": "LRHb9HQSLrcK"
      },
      "execution_count": 11,
      "outputs": []
    },
    {
      "cell_type": "markdown",
      "source": [
        "### 파이썬에서의 연산"
      ],
      "metadata": {
        "id": "4hpXEIW0NBOC"
      }
    },
    {
      "cell_type": "code",
      "source": [
        "3 + 5 # 더하기"
      ],
      "metadata": {
        "colab": {
          "base_uri": "https://localhost:8080/"
        },
        "id": "fLNazTKaMsiI",
        "outputId": "72cd0587-3b3f-4414-b500-fe3feef60412"
      },
      "execution_count": 14,
      "outputs": [
        {
          "output_type": "execute_result",
          "data": {
            "text/plain": [
              "8"
            ]
          },
          "metadata": {},
          "execution_count": 14
        }
      ]
    },
    {
      "cell_type": "code",
      "source": [
        "3 * 5 # 곱하기"
      ],
      "metadata": {
        "colab": {
          "base_uri": "https://localhost:8080/"
        },
        "id": "X1rEdh0qNTvH",
        "outputId": "dbec1e8a-f433-4d51-a61b-c21b8ad6e221"
      },
      "execution_count": 17,
      "outputs": [
        {
          "output_type": "execute_result",
          "data": {
            "text/plain": [
              "15"
            ]
          },
          "metadata": {},
          "execution_count": 17
        }
      ]
    },
    {
      "cell_type": "code",
      "source": [
        "2**3  # 제곱(power)"
      ],
      "metadata": {
        "colab": {
          "base_uri": "https://localhost:8080/"
        },
        "id": "C6zahE-MNZZU",
        "outputId": "70909e77-9f92-4407-b91b-bf575a3a055a"
      },
      "execution_count": 18,
      "outputs": [
        {
          "output_type": "execute_result",
          "data": {
            "text/plain": [
              "8"
            ]
          },
          "metadata": {},
          "execution_count": 18
        }
      ]
    },
    {
      "cell_type": "code",
      "source": [
        "1/3 # 나누기"
      ],
      "metadata": {
        "colab": {
          "base_uri": "https://localhost:8080/"
        },
        "id": "ciHZ_-8nNb3Y",
        "outputId": "7c8f3e50-905e-49bc-ade8-431a36195e7a"
      },
      "execution_count": 19,
      "outputs": [
        {
          "output_type": "execute_result",
          "data": {
            "text/plain": [
              "0.3333333333333333"
            ]
          },
          "metadata": {},
          "execution_count": 19
        }
      ]
    },
    {
      "cell_type": "markdown",
      "source": [
        "- 데이터를 다뤄야 하기 때문에 숫자를 담는 그릇에 대해서.\n",
        "- 리스트(list), 튜플(tuple), 배열(array), 데이터프레임(dataframe) 등"
      ],
      "metadata": {
        "id": "yhm-X0kaNyed"
      }
    },
    {
      "cell_type": "code",
      "source": [
        "# 리스트, bracket\n",
        "x = [1,2,3,4,5 ]\n",
        "# print(\"x는\", x)\n",
        "y = [10, 9, 8]\n",
        "\n",
        "x + y"
      ],
      "metadata": {
        "colab": {
          "base_uri": "https://localhost:8080/"
        },
        "id": "8K-9K3c1NnSy",
        "outputId": "06ced707-ce50-494d-ae74-f5ad90d3b961"
      },
      "execution_count": 25,
      "outputs": [
        {
          "output_type": "execute_result",
          "data": {
            "text/plain": [
              "[1, 2, 3, 4, 5, 10, 9, 8]"
            ]
          },
          "metadata": {},
          "execution_count": 25
        }
      ]
    },
    {
      "cell_type": "markdown",
      "source": [
        "---\n",
        "- 파이썬 패키지. 라이브러리.\n",
        "- 수학과 관련된 패키지 중에서 가장 많이 사용되는 것이 numpy\n",
        "- 넘파이에 있는 array() 를 이용해서 숫자들을 저장"
      ],
      "metadata": {
        "id": "zaSM75YRP8Tz"
      }
    },
    {
      "cell_type": "code",
      "source": [
        "# numpy의 약자가 np\n",
        "import numpy as np\n"
      ],
      "metadata": {
        "id": "p2kxnxOFO84U"
      },
      "execution_count": 27,
      "outputs": []
    },
    {
      "cell_type": "code",
      "source": [
        "x = np.array([3, 4, 5])\n",
        "# print(x)\n",
        "\n",
        "# 4, 9, 7 을 y의 array 형태로 담아보자\n",
        "y = np.array([4, 9, 7])\n",
        "\n",
        "print(x + y)\n",
        "print(x * y)"
      ],
      "metadata": {
        "colab": {
          "base_uri": "https://localhost:8080/"
        },
        "id": "_DFAbMGmQQxq",
        "outputId": "748d5aa0-e578-4176-bc14-2557e7c3e304"
      },
      "execution_count": 35,
      "outputs": [
        {
          "output_type": "stream",
          "name": "stdout",
          "text": [
            "[ 7 13 12]\n",
            "[12 36 35]\n"
          ]
        }
      ]
    },
    {
      "cell_type": "code",
      "source": [
        "# dim = 1 -> dim = 2 차원을 확장할 수 있음(제한)\n",
        "\n",
        "z = np.array([ [1,2,5], [3,4,8] ])\n",
        "print(z)\n",
        "print(\"z는\", z.ndim, \"차원입니다.\")"
      ],
      "metadata": {
        "colab": {
          "base_uri": "https://localhost:8080/"
        },
        "id": "9GvHj4joQvKT",
        "outputId": "fc26a809-76e1-4bde-946e-46d1cdc8758a"
      },
      "execution_count": 39,
      "outputs": [
        {
          "output_type": "stream",
          "name": "stdout",
          "text": [
            "[[1 2 5]\n",
            " [3 4 8]]\n",
            "z는 2 차원입니다.\n"
          ]
        }
      ]
    },
    {
      "cell_type": "code",
      "source": [
        "print(z.dtype) # 데이터의 타입\n",
        "print(z.shape) # 차원이 어떻게 구성되어 있냐"
      ],
      "metadata": {
        "colab": {
          "base_uri": "https://localhost:8080/"
        },
        "id": "nosh8_btTcE_",
        "outputId": "d58c632b-e97c-4e58-93a4-13036791f72f"
      },
      "execution_count": 43,
      "outputs": [
        {
          "output_type": "stream",
          "name": "stdout",
          "text": [
            "int64\n",
            "(2, 3)\n"
          ]
        }
      ]
    },
    {
      "cell_type": "code",
      "source": [
        "np.sum(z)"
      ],
      "metadata": {
        "colab": {
          "base_uri": "https://localhost:8080/"
        },
        "id": "NhWLEHGAV1mc",
        "outputId": "e0c572c5-d269-4262-fc58-98332eeed4ea"
      },
      "execution_count": 45,
      "outputs": [
        {
          "output_type": "execute_result",
          "data": {
            "text/plain": [
              "23"
            ]
          },
          "metadata": {},
          "execution_count": 45
        }
      ]
    }
  ]
}