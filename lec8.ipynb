{
  "nbformat": 4,
  "nbformat_minor": 0,
  "metadata": {
    "colab": {
      "provenance": [],
      "authorship_tag": "ABX9TyMdNAzro6jZ4LJ2FyE0HDfq",
      "include_colab_link": true
    },
    "kernelspec": {
      "name": "python3",
      "display_name": "Python 3"
    },
    "language_info": {
      "name": "python"
    }
  },
  "cells": [
    {
      "cell_type": "markdown",
      "metadata": {
        "id": "view-in-github",
        "colab_type": "text"
      },
      "source": [
        "<a href=\"https://colab.research.google.com/github/seokjinwoo/AIandEcon/blob/main/lec8.ipynb\" target=\"_parent\"><img src=\"https://colab.research.google.com/assets/colab-badge.svg\" alt=\"Open In Colab\"/></a>"
      ]
    },
    {
      "cell_type": "markdown",
      "source": [
        "- 기계학습\n",
        "\n",
        "- 지도학습과 비지도학습\n",
        "\n",
        "- 지도학습: 회귀문제(regression problem)와 분류문제(classifcation)\n",
        "\n",
        "- 회귀분석모형을 이용한 예측 문제에 대해서 학습\n",
        "\n",
        "- $\\{y_i,x_i\\}$ 이 주어졌을 때, $x$를 이용해서 $y$를 예측하는 문제\n",
        "\n",
        "- $y$가 연속인 경우. 회귀모형을 사용한다.\n",
        "\n",
        "- 조건부 기대 함수 (conditional mean function)을 이용해서 하면 된다.\n",
        "- 오차의 제곱의 평균을 최소화 시킬 수 있는 예측 방법이 뭐냐?\n",
        "- **조건부 기대 함수**\n",
        "\n",
        "- 어떻게 추정하면 되느냐?\n",
        "\n",
        "- 주어진 $x$의 근방(neighborhood)에서 $y$의 평균을 계산하면 됨.\n",
        "\n",
        "- 일반적으로 $x$의 갯수가 많아지면, 차원이 올라가면, 문제의 난이도가 아주 빠르게 증가하는 경향이 있음(curse of dimensionality)\n",
        "\n",
        "- 차원의 저주를 극복하는 제일 쉬운 방법은 선형함수를 가정하는 것임\n",
        "\n",
        "- 선형모형이 그렇게 나쁘지 않다.\n",
        "\n",
        "- OLS 를 통해서 추정을 할 것인데.\n"
      ],
      "metadata": {
        "id": "K7heTgxUX53M"
      }
    },
    {
      "cell_type": "markdown",
      "source": [
        "---\n",
        "### 모형의 정확성(accuracy)\n",
        "\n",
        "- 데이터: 훈련(train) 데이터와 검정(test) 데이터로 구분이 가능하다.\n",
        "\n",
        "- 훈련 데이터: $\\text{Tr} = \\{ x_i , y_i\\}_{i=1} ^{N}$ 에 대해 모형 $\\hat{f}(x)$ 을 훈련 시켰다고 가정.\n",
        "\n",
        "- 이 모형이 잘 적합되었는지, 혹은 잘 작동하는지를 평가하고자 한다.\n",
        "\n",
        "- 측도를 정의해서, 그걸 이용해서 모형이 잘 작동하는지를 평가해보자.\n",
        "\n",
        "- 평균제곱오차 (mean suqred error, MSE)를 계산할 수 있음\n",
        "\n",
        "$$\n",
        "\\text{Ave}_{i \\in \\text{Tr}} [y_i - \\hat{f}(x_i)]^2\n",
        "$$\n",
        "\n",
        "- 새로운 데이터, 검정 데이터 $\\text{Te} = \\{ x_i , y_i\\}_{i=1} ^{M}$ 를 사용하여 평균제곱오차를 계산할 수 있음\n",
        "\n",
        "\n",
        "$$\n",
        "\\text{Ave}_{i \\in \\text{Te}} [y_i - \\hat{f}(x_i)]^2\n",
        "$$\n",
        "\n",
        "\n",
        "\n",
        "\n",
        "\n",
        "\n",
        "\n",
        "\n"
      ],
      "metadata": {
        "id": "qhIyX1gtZWcq"
      }
    },
    {
      "cell_type": "code",
      "execution_count": null,
      "metadata": {
        "id": "0RZkAE99Ly_O"
      },
      "outputs": [],
      "source": []
    },
    {
      "cell_type": "markdown",
      "source": [
        "- 모형이 복잡해 진다고 해서 늘 좋은 것은 아니다.\n",
        "\n",
        "- 편향-분산 상충관계 bias-variance trade-off\n",
        "\n",
        "- 바이어스가 줄어든면(오차가 줄어들면), 분산이 커지고\n",
        "- 분산을 줄일려고 하면, 바이어스가 커지게 된다.\n",
        "\n",
        "- 훈련된 모형 $\\hat{f}(x_i)$ 을 이용해서 $x = x_0$ 에서 예측을 한다.\n",
        "\n",
        "- 원래 데이터는 $y_0 $ 를  $\\hat{f}(x_0)$ 로 잘 예측할 수 있는지를 측정\n",
        "\n",
        "$$\n",
        "y_0 - \\hat{f}(x_0) = (f(x_0) + \\epsilon )  - \\hat{f}(x_0)\n",
        "= (f(x_0) - \\hat{f}(x_0) ) + \\epsilon\n",
        "$$\n",
        "\n",
        "- 제곱해서 기대값을 계산하면,\n",
        "\n",
        "$$\n",
        "E[y_0 - \\hat{f}(x_0)]^2\n",
        "= E(f(x_0) - \\hat{f}(x_0) )^2 + 2E(f(x_0) - \\hat{f}(x_0) )\\epsilon + E[\\epsilon^2]\n",
        "$$\n",
        "\n",
        "- 위의 항 중에서 가운데 항은 $\\epsilon$ 하고 나머지 항이 독립이기 때문에 0이 됨\n",
        "\n",
        "$$\n",
        " E(f(x_0) - \\hat{f}(x_0) )^2 + E[\\epsilon^2]\n",
        "$$\n",
        "\n",
        "- 이 위의 항은 어떻게 전개가 되냐면\n",
        "\n",
        "$$\n",
        "\\text{Var} (\\hat{f}(x_0) ) + \\text{Bias}(\\hat{f}(x_0) )^2\n",
        "$$\n",
        "\n",
        "- $\\hat{f}(x_0)$의 분산과 바이어스 제곱의 항으로 구성이 됨\n",
        "\n",
        "\n",
        "- 정리를 하면\n",
        "\n",
        "$$\n",
        "E[y_0 - \\hat{f}(x_0)]^2  = \\text{Var} (\\hat{f}(x_0) ) + \\text{Bias}(\\hat{f}(x_0) )^2 + \\text{Var} (\\epsilon)\n",
        "$$\n",
        "\n",
        "\n",
        "\n",
        "\n",
        "\n"
      ],
      "metadata": {
        "id": "qIR7DTUqfZ20"
      }
    },
    {
      "cell_type": "markdown",
      "source": [
        "### Linear regression\n",
        "\n",
        "- 선형 회귀 모형은 지도 학습에서 가장 기초가 되는 모형이다 .\n",
        "\n",
        "- $Y$: 종속변수, 피설명변수, 레이블 (연속)\n",
        "- $X_1, \\dots, X_p$ 에 대해서 선형함수이다.\n",
        "- 실제 회귀함수는 선형이지는 않음.\n",
        "- 선형함수는 좋은 근사치가 된다.\n",
        "\n",
        "\n"
      ],
      "metadata": {
        "id": "Jywk_MS_wfHL"
      }
    },
    {
      "cell_type": "markdown",
      "source": [
        "---\n",
        "\n",
        "### 광고 데이터에 대한 선형회귀 모형\n",
        "\n",
        "- 다양한 광고 매체가 있고, 광고비 지출과 매출간의 관계가 얼마나 있는가?\n",
        "- 광고 매체: TV, radio, newspaper\n"
      ],
      "metadata": {
        "id": "Nikm1TbQw4gH"
      }
    },
    {
      "cell_type": "markdown",
      "source": [
        "---\n",
        "### 단순회귀모형\n",
        "\n",
        "- 설명변수, 특성변수가 1개일 때, 다음과 같이 모형을 가정할 수가 있음(하첨차 subscript를 생략)\n",
        "\n",
        "$$\n",
        "Y = \\beta_0 + \\beta_1 X + \\epsilon\n",
        "$$\n",
        "\n",
        "\n",
        "- $\\beta_0 , \\beta_1$ 을 보통 모형의 모수(parameters)이고, 여기에선 계수(coefficients), $\\epsilon$은 오차항이라고 부른다.\n",
        "\n",
        "\n",
        "- 계수를 추정(훈련)하고 난 다음에, $\\hat{\\beta_0}, \\hat{\\beta_1}$ 이 구해지고.\n",
        "\n",
        "- 예측된 매출액은 다음과 같음\n",
        "\n",
        "$$\n",
        "\\hat{y} = \\hat{\\beta_0} + \\hat{\\beta_1} x\n",
        "$$\n",
        "\n",
        "\n"
      ],
      "metadata": {
        "id": "210ILhvOxT4B"
      }
    },
    {
      "cell_type": "markdown",
      "source": [
        "---\n",
        "\n",
        "- 어떻게 모수들을 추정하면 되느냐, 모형을 어떻게 훈련을 시키면 되느냐.\n",
        "\n",
        "- 오차가 작아지도록 모형을 훈련시킨다.\n",
        "\n",
        "- 오차의 제곱의 합(residual sum of squares)\n",
        "\n",
        "$$\n",
        "\\text{RSS} = e_1^2 + e_2^2 + \\cdots + e_p^2 = \\sum_{i=1} ^p e_i ^2\n",
        "$$\n",
        "\n",
        "- 최소제곱추정법(ordinary least square estimation, **OLS**)\n",
        "\n",
        "$$\n",
        "\\hat{\\beta}_1 = \\frac{\\sum (x_i - \\bar{x})(y_i - \\bar{y})}{\\sum (x_i - \\bar{x})^2}\n",
        "$$\n",
        "\n",
        "\n",
        "\n",
        "\n",
        "\n",
        "\n",
        "\n",
        "\n",
        "\n",
        "\n",
        "\n"
      ],
      "metadata": {
        "id": "1Yv7b_FoyVoK"
      }
    },
    {
      "cell_type": "markdown",
      "source": [
        "---\n",
        "\n",
        "### 추론 inference\n",
        "\n",
        "$$\n",
        "\\text{Var} (\\hat{\\beta}_1) = \\frac{\\sigma^2}{\\sum (x_i - \\bar{x})^2}\n",
        "$$\n",
        "\n",
        "\n",
        "\n",
        "- $\\beta_1$의 95% 신뢰구간은 대략 다음과 같다\n",
        "\n",
        "- $[ \\hat{\\beta_1} -2 \\text{SE} (\\hat{\\beta_1}), \\hat{\\beta_1} + 2 \\text{SE} (\\hat{\\beta_1})  ]$\n",
        "\n"
      ],
      "metadata": {
        "id": "pueL9Htaz1Fh"
      }
    },
    {
      "cell_type": "markdown",
      "source": [
        "---\n",
        "\n",
        "- 귀무가설 $H_0: \\beta_1 = 0$ 검정하려고 하면\n",
        "\n",
        "- t-value는 $ \\hat{\\beta}_1/\\text{SE} (\\hat{\\beta_1})$\n",
        "\n",
        "- 표본수가 많지 않은 경우에는 t-분포를 따르게 되고, 표본수가 많은 경우에는 정규분포로 수렴하게 .\n"
      ],
      "metadata": {
        "id": "sPFTCord0rHR"
      }
    },
    {
      "cell_type": "markdown",
      "source": [
        "---\n",
        "\n",
        "- 독립 변수, 특성 변수 $X$가 한 개인 경우, 단순회귀모형을 했는데\n",
        "- 특성변수가 여러 개인 경우, 다중회귀모형(multiple regression model)\n",
        "\n",
        "- $X_1, \\dots, X_p$ 처럼 여러 개가 되고\n",
        "- 모수 역시 이에 상응하도록 $\\beta_1 , \\dots, \\beta_p$\n",
        "\n",
        "- 추정하는 방법은 동일합니다. 오차의 제곱의 합이 최소화 되도록 모수를 구한다.\n",
        "\n",
        "$$\n",
        "\\hat{\\beta} = (X'X)^{-1} X'y\n",
        "$$\n",
        "\n",
        "\n"
      ],
      "metadata": {
        "id": "CaV7jQd49Bi2"
      }
    },
    {
      "cell_type": "code",
      "source": [
        "# boston.csv 라는 파일을 이용해서 회귀분석을 하고,\n",
        "# 이를 이용해서 집값을 예측하는 모형을 구축\n",
        "\n",
        "import numpy as np\n",
        "import pandas as pd\n",
        "import matplotlib.pyplot as plt\n",
        "import statsmodels.formula.api as smf"
      ],
      "metadata": {
        "id": "tDUDkNUR0HzI"
      },
      "execution_count": 1,
      "outputs": []
    },
    {
      "cell_type": "code",
      "source": [
        "boston = pd.read_csv('/content/Boston.csv')\n",
        "print(boston.head())\n"
      ],
      "metadata": {
        "id": "ld-m78oA-EYb"
      },
      "execution_count": null,
      "outputs": []
    },
    {
      "cell_type": "markdown",
      "source": [
        "$$medv_i = a + b \\times lstat_i + e_i$$"
      ],
      "metadata": {
        "id": "_MfQQH7H-d4u"
      }
    },
    {
      "cell_type": "code",
      "source": [
        "# simple regession\n",
        "\n",
        "model1 = smf.ols(formula = 'medv ~ lstat', data = boston)\n",
        "result1 = model1.fit()\n",
        "print(result1.summary())\n",
        "\n"
      ],
      "metadata": {
        "colab": {
          "base_uri": "https://localhost:8080/"
        },
        "id": "6BlAF6CS-afb",
        "outputId": "a19538e3-537a-4bd1-cf85-4352848618b6"
      },
      "execution_count": 8,
      "outputs": [
        {
          "output_type": "stream",
          "name": "stdout",
          "text": [
            "                            OLS Regression Results                            \n",
            "==============================================================================\n",
            "Dep. Variable:                   medv   R-squared:                       0.544\n",
            "Model:                            OLS   Adj. R-squared:                  0.543\n",
            "Method:                 Least Squares   F-statistic:                     601.6\n",
            "Date:                Mon, 05 May 2025   Prob (F-statistic):           5.08e-88\n",
            "Time:                        10:27:37   Log-Likelihood:                -1641.5\n",
            "No. Observations:                 506   AIC:                             3287.\n",
            "Df Residuals:                     504   BIC:                             3295.\n",
            "Df Model:                           1                                         \n",
            "Covariance Type:            nonrobust                                         \n",
            "==============================================================================\n",
            "                 coef    std err          t      P>|t|      [0.025      0.975]\n",
            "------------------------------------------------------------------------------\n",
            "Intercept     34.5538      0.563     61.415      0.000      33.448      35.659\n",
            "lstat         -0.9500      0.039    -24.528      0.000      -1.026      -0.874\n",
            "==============================================================================\n",
            "Omnibus:                      137.043   Durbin-Watson:                   0.892\n",
            "Prob(Omnibus):                  0.000   Jarque-Bera (JB):              291.373\n",
            "Skew:                           1.453   Prob(JB):                     5.36e-64\n",
            "Kurtosis:                       5.319   Cond. No.                         29.7\n",
            "==============================================================================\n",
            "\n",
            "Notes:\n",
            "[1] Standard Errors assume that the covariance matrix of the errors is correctly specified.\n"
          ]
        }
      ]
    },
    {
      "cell_type": "code",
      "source": [
        "# multiple regession\n",
        "\n",
        "model2 = smf.ols(formula = 'medv ~ lstat + age', data = boston)\n",
        "result2 = model2.fit()\n",
        "print(result2.summary())"
      ],
      "metadata": {
        "colab": {
          "base_uri": "https://localhost:8080/"
        },
        "id": "bLBrdHBD-BBT",
        "outputId": "aac1a95b-61b2-461a-856b-e8e91ad1ef94"
      },
      "execution_count": 9,
      "outputs": [
        {
          "output_type": "stream",
          "name": "stdout",
          "text": [
            "                            OLS Regression Results                            \n",
            "==============================================================================\n",
            "Dep. Variable:                   medv   R-squared:                       0.551\n",
            "Model:                            OLS   Adj. R-squared:                  0.549\n",
            "Method:                 Least Squares   F-statistic:                     309.0\n",
            "Date:                Mon, 05 May 2025   Prob (F-statistic):           2.98e-88\n",
            "Time:                        10:27:41   Log-Likelihood:                -1637.5\n",
            "No. Observations:                 506   AIC:                             3281.\n",
            "Df Residuals:                     503   BIC:                             3294.\n",
            "Df Model:                           2                                         \n",
            "Covariance Type:            nonrobust                                         \n",
            "==============================================================================\n",
            "                 coef    std err          t      P>|t|      [0.025      0.975]\n",
            "------------------------------------------------------------------------------\n",
            "Intercept     33.2228      0.731     45.458      0.000      31.787      34.659\n",
            "lstat         -1.0321      0.048    -21.416      0.000      -1.127      -0.937\n",
            "age            0.0345      0.012      2.826      0.005       0.011       0.059\n",
            "==============================================================================\n",
            "Omnibus:                      124.288   Durbin-Watson:                   0.945\n",
            "Prob(Omnibus):                  0.000   Jarque-Bera (JB):              244.026\n",
            "Skew:                           1.362   Prob(JB):                     1.02e-53\n",
            "Kurtosis:                       5.038   Cond. No.                         201.\n",
            "==============================================================================\n",
            "\n",
            "Notes:\n",
            "[1] Standard Errors assume that the covariance matrix of the errors is correctly specified.\n"
          ]
        }
      ]
    },
    {
      "cell_type": "code",
      "source": [
        "# regression model with interaction\n",
        "\n",
        "# multiple regession\n",
        "\n",
        "model3 = smf.ols(formula = 'medv ~ lstat + age + lstat:age', data = boston)\n",
        "result3 = model3.fit()\n",
        "print(result3.summary())\n",
        "\n"
      ],
      "metadata": {
        "colab": {
          "base_uri": "https://localhost:8080/"
        },
        "id": "gbg9M7q7_P8M",
        "outputId": "7d635d82-dacc-4df9-d034-58258868ddfe"
      },
      "execution_count": 10,
      "outputs": [
        {
          "output_type": "stream",
          "name": "stdout",
          "text": [
            "                            OLS Regression Results                            \n",
            "==============================================================================\n",
            "Dep. Variable:                   medv   R-squared:                       0.556\n",
            "Model:                            OLS   Adj. R-squared:                  0.553\n",
            "Method:                 Least Squares   F-statistic:                     209.3\n",
            "Date:                Mon, 05 May 2025   Prob (F-statistic):           4.86e-88\n",
            "Time:                        10:28:54   Log-Likelihood:                -1635.0\n",
            "No. Observations:                 506   AIC:                             3278.\n",
            "Df Residuals:                     502   BIC:                             3295.\n",
            "Df Model:                           3                                         \n",
            "Covariance Type:            nonrobust                                         \n",
            "==============================================================================\n",
            "                 coef    std err          t      P>|t|      [0.025      0.975]\n",
            "------------------------------------------------------------------------------\n",
            "Intercept     36.0885      1.470     24.553      0.000      33.201      38.976\n",
            "lstat         -1.3921      0.167     -8.313      0.000      -1.721      -1.063\n",
            "age           -0.0007      0.020     -0.036      0.971      -0.040       0.038\n",
            "lstat:age      0.0042      0.002      2.244      0.025       0.001       0.008\n",
            "==============================================================================\n",
            "Omnibus:                      135.601   Durbin-Watson:                   0.965\n",
            "Prob(Omnibus):                  0.000   Jarque-Bera (JB):              296.955\n",
            "Skew:                           1.417   Prob(JB):                     3.29e-65\n",
            "Kurtosis:                       5.461   Cond. No.                     6.88e+03\n",
            "==============================================================================\n",
            "\n",
            "Notes:\n",
            "[1] Standard Errors assume that the covariance matrix of the errors is correctly specified.\n",
            "[2] The condition number is large, 6.88e+03. This might indicate that there are\n",
            "strong multicollinearity or other numerical problems.\n"
          ]
        }
      ]
    },
    {
      "cell_type": "code",
      "source": [
        "# regression with polynomials\n",
        "\n",
        "model4 = smf.ols(formula = 'medv ~ age + I(age**2)  + I(age**3)', data = boston)\n",
        "result4 = model4.fit()\n",
        "print(result4.summary())"
      ],
      "metadata": {
        "colab": {
          "base_uri": "https://localhost:8080/"
        },
        "id": "5Mzfghtn_eJk",
        "outputId": "609ed278-ff7b-4097-e929-ec762f6c1cda"
      },
      "execution_count": 11,
      "outputs": [
        {
          "output_type": "stream",
          "name": "stdout",
          "text": [
            "                            OLS Regression Results                            \n",
            "==============================================================================\n",
            "Dep. Variable:                   medv   R-squared:                       0.157\n",
            "Model:                            OLS   Adj. R-squared:                  0.152\n",
            "Method:                 Least Squares   F-statistic:                     31.06\n",
            "Date:                Mon, 05 May 2025   Prob (F-statistic):           1.96e-18\n",
            "Time:                        10:30:27   Log-Likelihood:                -1797.2\n",
            "No. Observations:                 506   AIC:                             3602.\n",
            "Df Residuals:                     502   BIC:                             3619.\n",
            "Df Model:                           3                                         \n",
            "Covariance Type:            nonrobust                                         \n",
            "===============================================================================\n",
            "                  coef    std err          t      P>|t|      [0.025      0.975]\n",
            "-------------------------------------------------------------------------------\n",
            "Intercept      28.9311      2.992      9.668      0.000      23.052      34.810\n",
            "age            -0.1224      0.201     -0.608      0.544      -0.518       0.273\n",
            "I(age ** 2)     0.0024      0.004      0.599      0.549      -0.005       0.010\n",
            "I(age ** 3) -2.318e-05   2.28e-05     -1.017      0.310    -6.8e-05    2.16e-05\n",
            "==============================================================================\n",
            "Omnibus:                      181.718   Durbin-Watson:                   0.631\n",
            "Prob(Omnibus):                  0.000   Jarque-Bera (JB):              531.101\n",
            "Skew:                           1.750   Prob(JB):                    4.71e-116\n",
            "Kurtosis:                       6.597   Cond. No.                     4.74e+06\n",
            "==============================================================================\n",
            "\n",
            "Notes:\n",
            "[1] Standard Errors assume that the covariance matrix of the errors is correctly specified.\n",
            "[2] The condition number is large, 4.74e+06. This might indicate that there are\n",
            "strong multicollinearity or other numerical problems.\n"
          ]
        }
      ]
    },
    {
      "cell_type": "code",
      "source": [
        "# fitted value vs. resiuals\n",
        "\n",
        "import matplotlib.pyplot as plt\n",
        "\n",
        "model = smf.ols(formula = 'medv ~ lstat + age + I(age**2)', data = boston).fit()\n",
        "\n",
        "plt.scatter(model.fittedvalues, model.resid, alpha = 0.5)\n",
        "plt.axhline(y = 0, color = 'r', linestyle='--')\n",
        "plt.xlabel('fitted values')\n",
        "plt.ylabel('residuals')\n",
        "plt.show()\n",
        "\n",
        "\n",
        "\n",
        "\n",
        "\n"
      ],
      "metadata": {
        "colab": {
          "base_uri": "https://localhost:8080/",
          "height": 449
        },
        "id": "UD7XpeJY_1X8",
        "outputId": "aaabb81b-435a-4d42-b258-4af84ee97530"
      },
      "execution_count": 16,
      "outputs": [
        {
          "output_type": "display_data",
          "data": {
            "text/plain": [
              "<Figure size 640x480 with 1 Axes>"
            ],
            "image/png": "[encoded data removed]"
          },
          "metadata": {}
        }
      ]
    },
    {
      "cell_type": "code",
      "source": [],
      "metadata": {
        "id": "L4S1EZy2AQbT"
      },
      "execution_count": null,
      "outputs": []
    }
  ]
}