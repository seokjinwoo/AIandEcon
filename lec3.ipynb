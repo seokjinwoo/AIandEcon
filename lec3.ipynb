{
  "nbformat": 4,
  "nbformat_minor": 0,
  "metadata": {
    "colab": {
      "provenance": [],
      "authorship_tag": "ABX9TyPEnQtLYsZhegNqf6ahDsMQ",
      "include_colab_link": true
    },
    "kernelspec": {
      "name": "python3",
      "display_name": "Python 3"
    },
    "language_info": {
      "name": "python"
    }
  },
  "cells": [
    {
      "cell_type": "markdown",
      "metadata": {
        "id": "view-in-github",
        "colab_type": "text"
      },
      "source": [
        "<a href=\"https://colab.research.google.com/github/seokjinwoo/AIandEcon/blob/main/lec3.ipynb\" target=\"_parent\"><img src=\"https://colab.research.google.com/assets/colab-badge.svg\" alt=\"Open In Colab\"/></a>"
      ]
    },
    {
      "cell_type": "markdown",
      "source": [
        "## 분포 distribution\n",
        "\n",
        "- 확률변수 $X$가 있고,\n",
        "- 이 확률변수 $X$가 따르는 분포가 있음\n",
        "\n",
        "- 제한된 값만 갖는 확률변수 -> 이산(discrete) 확률변수\n",
        "- 무수히 많은(셀 수 없는) 값을 갖는 확률변수 -> 연속(continuous) 확률변수\n",
        "\n",
        "---\n",
        "\n",
        "### 베르누이 분포(Bernoulli distribution)\n",
        "\n",
        "- 베르누이 시행(Bernoulli trial)"
      ],
      "metadata": {
        "id": "2ScJapwy8VcT"
      }
    },
    {
      "cell_type": "code",
      "execution_count": 9,
      "metadata": {
        "colab": {
          "base_uri": "https://localhost:8080/"
        },
        "id": "MxromUMq51SF",
        "outputId": "0310ee5b-785f-4ef1-b148-df13d4583a97"
      },
      "outputs": [
        {
          "output_type": "stream",
          "name": "stdout",
          "text": [
            "안타인지 아웃인지  [0 1 0 0 0 0 0 1 1 0 1 0 0 1 0 0 0 1 1 1]\n"
          ]
        }
      ],
      "source": [
        "import numpy as np # 수학에서 쓰이는 함수를 불러낼 수 있음\n",
        "\n",
        "np.random.seed(0)\n",
        "\n",
        "n = 20\n",
        "\n",
        "u = np.random.uniform(0,1, n)\n",
        "\n",
        "x = np.where(u > 0.7, 1, 0)\n",
        "print(\"안타인지 아웃인지 \",x)\n",
        "\n"
      ]
    },
    {
      "cell_type": "markdown",
      "source": [
        "- $X \\in {0, 1}$ , 베르누이 분포, $Ber(p)$\n",
        "\n",
        "- $X_1 , X_2, \\dots , X_n $\n",
        "- counting\n",
        "\n",
        "$$\n",
        "N = X_1 + X_2 + \\cdots + X_n\n",
        "$$\n",
        "\n",
        "- Binomial distribution. 이항분포\n",
        "\n",
        "$$\n",
        "X \\sim B(n, p)\n",
        "$$\n",
        "\n",
        "- mean of $X$, $E[X] = np $\n",
        "- variance of $X$, $var(X) = n \\times p \\times (1-p) $\n",
        "\n"
      ],
      "metadata": {
        "id": "3JzFqR_1C2cs"
      }
    },
    {
      "cell_type": "markdown",
      "source": [],
      "metadata": {
        "id": "9O5zAzzm8Uip"
      }
    },
    {
      "cell_type": "code",
      "source": [
        "import numpy as np\n",
        "import matplotlib.pyplot as plt\n",
        "from scipy.stats import binom\n",
        "\n",
        "n = 500\n",
        "p = 0.3\n",
        "x = np.arange(0,n*(1+0.01))\n",
        "\n",
        "prob = binom.pmf(x, n, p)*100\n",
        "\n",
        "plt.figure(figsize=(5,3))\n",
        "plt.bar(x, prob, alpha = 0.5, color = 'skyblue')\n",
        "plt.show()\n"
      ],
      "metadata": {
        "colab": {
          "base_uri": "https://localhost:8080/",
          "height": 292
        },
        "id": "XvWkHDhAFLoe",
        "outputId": "6bc4a600-87a1-4e40-d71c-a389782ffceb"
      },
      "execution_count": 19,
      "outputs": [
        {
          "output_type": "display_data",
          "data": {
            "text/plain": [
              "<Figure size 500x300 with 1 Axes>"
            ],
            "image/png": "[encoded data removed]"
          },
          "metadata": {}
        }
      ]
    },
    {
      "cell_type": "markdown",
      "source": [
        "- 이산확률변수의 분포 중 하나인 포아송 분포(Poisson distribution)\n",
        "\n",
        "- 1개월 동안 일자리 제안을 몇 번 받았냐?\n",
        "- 근무시간 8시간 동안 전화가 몇 번 걸려왔냐.\n",
        "- 1년 동안 전구의 필라멘트가 몇 번 끊겼냐.\n",
        "\n",
        "\n",
        "- $\\lambda$: 강도(intensity)\n",
        "\n",
        "$$\n",
        "X \\sim Poi(\\lambda)\n",
        "$$\n",
        "\n",
        "- mean of $X$: $E[X] = \\lambda $\n",
        "- variance of $X$: $var(X) = \\lambda $, over-dispersion\n",
        "\n",
        "$$\n",
        "f(x) = \\frac{\\lambda^{x} \\exp( -\\lambda ) }{x!}\n",
        "$$"
      ],
      "metadata": {
        "id": "jGrZ0Qf7Q8Ay"
      }
    },
    {
      "cell_type": "code",
      "source": [
        "import numpy as np\n",
        "import matplotlib.pyplot as plt\n",
        "from scipy.stats import poisson"
      ],
      "metadata": {
        "id": "xbWtcSu0FSzs"
      },
      "execution_count": 21,
      "outputs": []
    },
    {
      "cell_type": "code",
      "source": [
        "np.random.seed(0)\n",
        "\n",
        "lambda1 = 5\n",
        "data1 = poisson.rvs(mu = lambda1, size = 1000)\n",
        "\n",
        "# plotting\n",
        "plt.figure(figsize=(4,2))\n",
        "plt.hist(data1,\n",
        "         bins = range(min(data1), max(data1)+2),\n",
        "         color = 'lightblue',\n",
        "         rwidth=0.5)\n",
        "plt.show()\n",
        "\n"
      ],
      "metadata": {
        "colab": {
          "base_uri": "https://localhost:8080/",
          "height": 214
        },
        "id": "TGiJeIRSUwxO",
        "outputId": "ff8502ca-a2ee-48c7-b8a9-393dd5934456"
      },
      "execution_count": 32,
      "outputs": [
        {
          "output_type": "display_data",
          "data": {
            "text/plain": [
              "<Figure size 400x200 with 1 Axes>"
            ],
            "image/png": "[encoded data removed]"
          },
          "metadata": {}
        }
      ]
    },
    {
      "cell_type": "code",
      "source": [
        "import numpy as np\n",
        "import matplotlib.pyplot as plt\n",
        "from scipy.stats import poisson\n",
        "\n",
        "np.random.seed(0)\n",
        "\n",
        "lambda1 = 5\n",
        "data1 = poisson.rvs(mu=lambda1, size=1000)\n",
        "\n",
        "# 평균 계산\n",
        "mean_data1 = np.mean(data1)\n",
        "\n",
        "# 플로팅\n",
        "plt.figure(figsize=(4,2))\n",
        "plt.hist(data1,\n",
        "         bins=range(min(data1), max(data1)+2),\n",
        "         color='lightblue',\n",
        "         rwidth=0.5)\n",
        "\n",
        "# 평균을 나타내는 수직선 추가\n",
        "plt.axvline(mean_data1, color='red', linestyle='dashed', linewidth=2, label=f'Mean: {mean_data1:.2f}')\n",
        "\n",
        "# 범례 추가\n",
        "plt.legend()\n",
        "\n",
        "plt.show()\n"
      ],
      "metadata": {
        "colab": {
          "base_uri": "https://localhost:8080/",
          "height": 214
        },
        "id": "Tu_ei3JMXiid",
        "outputId": "90df2195-9f12-48f1-e930-c764edda3d3b"
      },
      "execution_count": 33,
      "outputs": [
        {
          "output_type": "display_data",
          "data": {
            "text/plain": [
              "<Figure size 400x200 with 1 Axes>"
            ],
            "image/png": "[encoded data removed]"
          },
          "metadata": {}
        }
      ]
    },
    {
      "cell_type": "markdown",
      "source": [
        "- 사건수가 0에서 1이 될 때까지 걸리는 시간 $t$ 은\n",
        "- 지수분포(exponential distribution)를 따른다\n",
        "- 지수분포는 연속확률분포이다.\n",
        "\n",
        "$$\n",
        "T \\sim Exp(\\lambda)\n",
        "$$\n"
      ],
      "metadata": {
        "id": "INod07ekbLeM"
      }
    },
    {
      "cell_type": "code",
      "source": [],
      "metadata": {
        "id": "9fhn8zEOdkJS"
      },
      "execution_count": null,
      "outputs": []
    }
  ]
}